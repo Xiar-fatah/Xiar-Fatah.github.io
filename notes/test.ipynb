{
 "cells": [
  {
   "cell_type": "code",
   "execution_count": 16,
   "metadata": {},
   "outputs": [],
   "source": [
    "import pandas as pd\n",
    "import numpy as np\n",
    "import matplotlib.pyplot as plt\n",
    "plt.rcParams['figure.dpi'] = 400 \n",
    "plt.rcParams[\"axes.grid\"] = True\n",
    "import QuantLib as ql\n",
    "ql_date = ql.Date(\"2023-01-11\", \"%Y-%m-%d\")\n",
    "ql.Settings.instance().evaluationDate = ql_date\n",
    "# Define all the properties of the instrument\n",
    "rates = [3.218, 3.330]\n",
    "maturity= ['3M', '6M']\n",
    "calendar = ql.TARGET()\n",
    "fixing_day = 0\n",
    "convention = ql.ModifiedFollowing\n",
    "day_counter= ql.Actual360()\n",
    "\n",
    "# Create the DepositRateHelper\n",
    "helpers = [ql.DepositRateHelper(ql.QuoteHandle(ql.SimpleQuote(r/100.0)),\n",
    "                    ql.Period(t),\n",
    "                    fixing_day,\n",
    "                    calendar,\n",
    "                    convention,\n",
    "                    False,\n",
    "                    day_counter) for r, t in zip(rates,maturity)]\n",
    "\n",
    "curve = ql.PiecewiseLinearZero(0, ql.TARGET(), helpers, ql.Actual365Fixed())"
   ]
  },
  {
   "cell_type": "code",
   "execution_count": 19,
   "metadata": {},
   "outputs": [
    {
     "data": {
      "text/plain": [
       "((Date(11,1,2023), 0.032496402234420525),\n",
       " (Date(11,4,2023), 0.032496402234420525),\n",
       " (Date(11,7,2023), 0.03348298125251125))"
      ]
     },
     "execution_count": 19,
     "metadata": {},
     "output_type": "execute_result"
    }
   ],
   "source": [
    "curve.nodes()"
   ]
  },
  {
   "cell_type": "code",
   "execution_count": 11,
   "metadata": {},
   "outputs": [
    {
     "ename": "TypeError",
     "evalue": "Wrong number or type of arguments for overloaded function 'new_DepositRateHelper'.\n  Possible C/C++ prototypes are:\n    DepositRateHelper::DepositRateHelper(Handle< Quote > const &,Period const &,Natural,Calendar const &,BusinessDayConvention,bool,DayCounter const &)\n    DepositRateHelper::DepositRateHelper(Rate,Period const &,Natural,Calendar const &,BusinessDayConvention,bool,DayCounter const &)\n    DepositRateHelper::DepositRateHelper(Handle< Quote > const &,ext::shared_ptr< IborIndex > const &)\n    DepositRateHelper::DepositRateHelper(Rate,ext::shared_ptr< IborIndex > const &)\n",
     "output_type": "error",
     "traceback": [
      "\u001b[1;31m---------------------------------------------------------------------------\u001b[0m",
      "\u001b[1;31mTypeError\u001b[0m                                 Traceback (most recent call last)",
      "\u001b[1;32m~\\AppData\\Local\\Temp\\ipykernel_24604\\776657705.py\u001b[0m in \u001b[0;36m?\u001b[1;34m()\u001b[0m\n\u001b[0;32m      8\u001b[0m \u001b[0mstibor_convention\u001b[0m \u001b[1;33m=\u001b[0m \u001b[0mql\u001b[0m\u001b[1;33m.\u001b[0m\u001b[0mModifiedFollowing\u001b[0m\u001b[1;33m\u001b[0m\u001b[1;33m\u001b[0m\u001b[0m\n\u001b[0;32m      9\u001b[0m \u001b[0mstibor_day_counter\u001b[0m\u001b[1;33m=\u001b[0m \u001b[0mql\u001b[0m\u001b[1;33m.\u001b[0m\u001b[0mActual360\u001b[0m\u001b[1;33m(\u001b[0m\u001b[1;33m)\u001b[0m\u001b[1;33m\u001b[0m\u001b[1;33m\u001b[0m\u001b[0m\n\u001b[0;32m     10\u001b[0m \u001b[1;33m\u001b[0m\u001b[0m\n\u001b[0;32m     11\u001b[0m \u001b[1;31m# Create the DepositRateHelper\u001b[0m\u001b[1;33m\u001b[0m\u001b[1;33m\u001b[0m\u001b[0m\n\u001b[1;32m---> 12\u001b[1;33m stibor_helper = ql.DepositRateHelper(ql.QuoteHandle(ql.SimpleQuote(stibor_rate/100.0)),\n\u001b[0m\u001b[0;32m     13\u001b[0m                     \u001b[0mql\u001b[0m\u001b[1;33m.\u001b[0m\u001b[0mPeriod\u001b[0m\u001b[1;33m(\u001b[0m\u001b[0mstibor_maturity\u001b[0m\u001b[1;33m)\u001b[0m\u001b[1;33m,\u001b[0m\u001b[1;33m\u001b[0m\u001b[1;33m\u001b[0m\u001b[0m\n\u001b[0;32m     14\u001b[0m                     \u001b[0mstibor_fixing_day\u001b[0m\u001b[1;33m,\u001b[0m\u001b[1;33m\u001b[0m\u001b[1;33m\u001b[0m\u001b[0m\n\u001b[0;32m     15\u001b[0m                     \u001b[0mstibor_calendar\u001b[0m\u001b[1;33m,\u001b[0m\u001b[1;33m\u001b[0m\u001b[1;33m\u001b[0m\u001b[0m\n",
      "\u001b[1;32mc:\\Users\\kiarf\\miniconda3\\envs\\rateslib\\Lib\\site-packages\\QuantLib\\QuantLib.py\u001b[0m in \u001b[0;36m?\u001b[1;34m(self, *args)\u001b[0m\n\u001b[0;32m  26525\u001b[0m         \u001b[0m__init__\u001b[0m\u001b[1;33m(\u001b[0m\u001b[0mDepositRateHelper\u001b[0m \u001b[0mself\u001b[0m\u001b[1;33m,\u001b[0m \u001b[0mRate\u001b[0m \u001b[0mrate\u001b[0m\u001b[1;33m,\u001b[0m \u001b[0mPeriod\u001b[0m \u001b[0mtenor\u001b[0m\u001b[1;33m,\u001b[0m \u001b[0mNatural\u001b[0m \u001b[0mfixingDays\u001b[0m\u001b[1;33m,\u001b[0m \u001b[0mCalendar\u001b[0m \u001b[0mcalendar\u001b[0m\u001b[1;33m,\u001b[0m \u001b[0mBusinessDayConvention\u001b[0m \u001b[0mconvention\u001b[0m\u001b[1;33m,\u001b[0m \u001b[0mbool\u001b[0m \u001b[0mendOfMonth\u001b[0m\u001b[1;33m,\u001b[0m \u001b[0mDayCounter\u001b[0m \u001b[0mdayCounter\u001b[0m\u001b[1;33m)\u001b[0m \u001b[1;33m->\u001b[0m \u001b[0mDepositRateHelper\u001b[0m\u001b[1;33m\u001b[0m\u001b[1;33m\u001b[0m\u001b[0m\n\u001b[0;32m  26526\u001b[0m         \u001b[0m__init__\u001b[0m\u001b[1;33m(\u001b[0m\u001b[0mDepositRateHelper\u001b[0m \u001b[0mself\u001b[0m\u001b[1;33m,\u001b[0m \u001b[0mQuoteHandle\u001b[0m \u001b[0mrate\u001b[0m\u001b[1;33m,\u001b[0m \u001b[0mext\u001b[0m\u001b[1;33m:\u001b[0m\u001b[1;33m:\u001b[0m\u001b[0mshared_ptr\u001b[0m\u001b[1;33m<\u001b[0m \u001b[0mIborIndex\u001b[0m \u001b[1;33m>\u001b[0m \u001b[0mconst\u001b[0m \u001b[1;33m&\u001b[0m \u001b[0mindex\u001b[0m\u001b[1;33m)\u001b[0m \u001b[1;33m->\u001b[0m \u001b[0mDepositRateHelper\u001b[0m\u001b[1;33m\u001b[0m\u001b[1;33m\u001b[0m\u001b[0m\n\u001b[0;32m  26527\u001b[0m         \u001b[0m__init__\u001b[0m\u001b[1;33m(\u001b[0m\u001b[0mDepositRateHelper\u001b[0m \u001b[0mself\u001b[0m\u001b[1;33m,\u001b[0m \u001b[0mRate\u001b[0m \u001b[0mrate\u001b[0m\u001b[1;33m,\u001b[0m \u001b[0mext\u001b[0m\u001b[1;33m:\u001b[0m\u001b[1;33m:\u001b[0m\u001b[0mshared_ptr\u001b[0m\u001b[1;33m<\u001b[0m \u001b[0mIborIndex\u001b[0m \u001b[1;33m>\u001b[0m \u001b[0mconst\u001b[0m \u001b[1;33m&\u001b[0m \u001b[0mindex\u001b[0m\u001b[1;33m)\u001b[0m \u001b[1;33m->\u001b[0m \u001b[0mDepositRateHelper\u001b[0m\u001b[1;33m\u001b[0m\u001b[1;33m\u001b[0m\u001b[0m\n\u001b[0;32m  26528\u001b[0m         \"\"\"\n\u001b[1;32m> 26529\u001b[1;33m         \u001b[0m_QuantLib\u001b[0m\u001b[1;33m.\u001b[0m\u001b[0mDepositRateHelper_swiginit\u001b[0m\u001b[1;33m(\u001b[0m\u001b[0mself\u001b[0m\u001b[1;33m,\u001b[0m \u001b[0m_QuantLib\u001b[0m\u001b[1;33m.\u001b[0m\u001b[0mnew_DepositRateHelper\u001b[0m\u001b[1;33m(\u001b[0m\u001b[1;33m*\u001b[0m\u001b[0margs\u001b[0m\u001b[1;33m)\u001b[0m\u001b[1;33m)\u001b[0m\u001b[1;33m\u001b[0m\u001b[1;33m\u001b[0m\u001b[0m\n\u001b[0m",
      "\u001b[1;31mTypeError\u001b[0m: Wrong number or type of arguments for overloaded function 'new_DepositRateHelper'.\n  Possible C/C++ prototypes are:\n    DepositRateHelper::DepositRateHelper(Handle< Quote > const &,Period const &,Natural,Calendar const &,BusinessDayConvention,bool,DayCounter const &)\n    DepositRateHelper::DepositRateHelper(Rate,Period const &,Natural,Calendar const &,BusinessDayConvention,bool,DayCounter const &)\n    DepositRateHelper::DepositRateHelper(Handle< Quote > const &,ext::shared_ptr< IborIndex > const &)\n    DepositRateHelper::DepositRateHelper(Rate,ext::shared_ptr< IborIndex > const &)\n"
     ]
    }
   ],
   "source": [
    "store_helpers = []\n",
    "\n",
    "# Define all the properties of the instrument\n",
    "stibor_rate = 3.21800\n",
    "stibor_maturity= '6M'\n",
    "stibor_calendar = ql.TARGET()\n",
    "stibor_fixing_day = 0\n",
    "stibor_convention = ql.ModifiedFollowing\n",
    "stibor_day_counter= ql.Actual360()\n",
    "\n",
    "# Create the DepositRateHelper\n",
    "stibor_helper = ql.DepositRateHelper(ql.QuoteHandle(ql.SimpleQuote(stibor_rate/100.0)),\n",
    "                    ql.Period(stibor_maturity),\n",
    "                    stibor_fixing_day,\n",
    "                    stibor_calendar,\n",
    "                    stibor_convention,\n",
    "                    stibor_day_counter)\n",
    "# Store the DepositRateHelper to the list of helpers\n",
    "store_helpers.append(stibor_helper)"
   ]
  }
 ],
 "metadata": {
  "kernelspec": {
   "display_name": "rateslib",
   "language": "python",
   "name": "python3"
  },
  "language_info": {
   "codemirror_mode": {
    "name": "ipython",
    "version": 3
   },
   "file_extension": ".py",
   "mimetype": "text/x-python",
   "name": "python",
   "nbconvert_exporter": "python",
   "pygments_lexer": "ipython3",
   "version": "3.11.4"
  }
 },
 "nbformat": 4,
 "nbformat_minor": 2
}
